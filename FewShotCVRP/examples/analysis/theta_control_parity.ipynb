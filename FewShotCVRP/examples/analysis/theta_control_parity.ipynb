{
 "cells": [
  {
   "cell_type": "code",
   "execution_count": 1,
   "id": "898b307b",
   "metadata": {},
   "outputs": [],
   "source": [
    "from pathlib import Path\n",
    "\n",
    "import numpy as np\n",
    "\n",
    "import FewShotCVRP.ea as ea\n",
    "import FewShotCVRP.ea_parallel as ea_parallel\n",
    "from FewShotCVRP.dataset.theta_control_loader import DescriptorRepository\n",
    "from FewShotCVRP.examples.params_search import simulation\n"
   ]
  },
  {
   "cell_type": "code",
   "execution_count": 2,
   "id": "c632644c",
   "metadata": {},
   "outputs": [],
   "source": [
    "descriptor_path = Path(\"../../dataset/trained_models/per_instance/descriptor.json\")\n",
    "repo = DescriptorRepository(descriptor_path)\n",
    "\n",
    "instance = next(inst for inst in repo.instances if inst.name == \"X-n209-k16\")\n",
    "cvrp = simulation.get_cvrp_instance(\"X-n209-k16.xml\")\n",
    "\n",
    "cfg = repo.ea_config\n",
    "lambda_ = int(cfg[\"ea_lambda_\"])\n",
    "generations_number = int(cfg[\"ea_generations_number\"])\n",
    "max_evals = generations_number * lambda_\n",
    "seed = 2024\n"
   ]
  },
  {
   "cell_type": "code",
   "execution_count": 27,
   "id": "581c624d",
   "metadata": {},
   "outputs": [],
   "source": [
    "wrapper_controller = repo.create_theta_controller(instance)\n",
    "baseline_controller = repo.create_theta_controller(instance)\n",
    "\n",
    "theta_schedule_window = np.asarray(baseline_controller.theta_schedule_window(), dtype=float)\n",
    "theta_control_fun = baseline_controller._theta_function\n"
   ]
  },
  {
   "cell_type": "code",
   "execution_count": null,
   "id": "72000845",
   "metadata": {},
   "outputs": [],
   "source": [
    "res_wrapper = ea_parallel.one_plus_lambda_ea_parallel_nn_control(\n",
    "    cvrp,\n",
    "    wrapper_controller,\n",
    "    lambda_=lambda_,\n",
    "    max_evals=max_evals,\n",
    "    generations_number=generations_number,\n",
    "    seed=seed,\n",
    "    mutation=\"2opt\",\n",
    "    numproc=1,\n",
    "    verbose=False,\n",
    ")\n",
    "\n",
    "res_original = ea.one_plus_lambda_ea_with_theta_control(\n",
    "    cvrp,\n",
    "    theta_control_fun=theta_control_fun,\n",
    "    window=len(theta_schedule_window),\n",
    "    theta_schedule_window=theta_schedule_window,\n",
    "    lambda_=lambda_,\n",
    "    max_evals=max_evals,\n",
    "    generations_number=generations_number,\n",
    "    seed=seed,\n",
    "    mutation=ea.mutate_shift_2opt_fast_fast,\n",
    "    verbose=False,\n",
    ")\n"
   ]
  },
  {
   "cell_type": "code",
   "execution_count": 5,
   "id": "e70effd6",
   "metadata": {},
   "outputs": [
    {
     "data": {
      "text/plain": [
       "{'best_fitness_equal': np.True_,\n",
       " 'evals_equal': True,\n",
       " 'gens_equal': True,\n",
       " 'history_equal': True}"
      ]
     },
     "execution_count": 5,
     "metadata": {},
     "output_type": "execute_result"
    }
   ],
   "source": [
    "comparison = {\n",
    "    \"best_fitness_equal\": np.isclose(res_wrapper[\"best_fitness\"], res_original[\"best_fitness\"]),\n",
    "    \"evals_equal\": res_wrapper[\"evals\"] == res_original[\"evals\"],\n",
    "    \"gens_equal\": res_wrapper[\"gens\"] == res_original[\"gens\"],\n",
    "    \"history_equal\": res_wrapper[\"history\"] == res_original[\"history\"],\n",
    "}\n",
    "comparison\n"
   ]
  },
  {
   "cell_type": "code",
   "execution_count": 45,
   "id": "a10d5410",
   "metadata": {},
   "outputs": [
    {
     "data": {
      "text/plain": [
       "52417.0"
      ]
     },
     "execution_count": 45,
     "metadata": {},
     "output_type": "execute_result"
    }
   ],
   "source": [
    "from importlib import reload\n",
    "\n",
    "reload(ea_parallel)\n",
    "\n",
    "res_wrapper = ea_parallel.one_plus_lambda_ea_parallel_nn_control(\n",
    "    cvrp,\n",
    "    wrapper_controller,\n",
    "    lambda_=lambda_,\n",
    "    max_evals=max_evals,\n",
    "    generations_number=generations_number,\n",
    "    seed=seed,\n",
    "    mutation=\"2opt\",\n",
    "    numproc=50,\n",
    "    verbose=False,\n",
    ")\n",
    "res_wrapper[\"best_fitness\"]"
   ]
  },
  {
   "cell_type": "markdown",
   "id": "46655c93",
   "metadata": {},
   "source": [
    "### Run ea_voting"
   ]
  },
  {
   "cell_type": "code",
   "execution_count": 22,
   "id": "e31b0470",
   "metadata": {},
   "outputs": [
    {
     "name": "stdout",
     "output_type": "stream",
     "text": [
      "Quorum: 2591.9999991900404\n",
      "[init] fitness=118362.000000\n",
      "[gen 1] theta=100 v=3520 cnt=6337 fitness=107301.000000 ↑ evals=20001/1000001\n",
      "[gen 2] theta=100 v=3717 cnt=6537 fitness=102748.000000 ↑ evals=40001/1000001\n",
      "[gen 3] theta=50 v=3826 cnt=6646 fitness=98195.000000 ↑ evals=60001/1000001\n",
      "[gen 4] theta=25 v=4121 cnt=6943 fitness=95218.000000 ↑ evals=80001/1000001\n",
      "[gen 5] theta=12.5 v=4838 cnt=7689 fitness=92321.000000 ↑ evals=100001/1000001\n",
      "[gen 6] theta=7 v=987 cnt=1030 fitness=90468.000000 ↑ evals=120001/1000001\n",
      "[gen 7] theta=7 v=1634 cnt=1698 fitness=88644.000000 ↑ evals=140001/1000001\n",
      "[gen 8] theta=14 v=1971 cnt=2036 fitness=86798.000000 ↑ evals=160001/1000001\n",
      "[gen 9] theta=7 v=3304 cnt=3427 fitness=84541.000000 ↑ evals=180001/1000001\n",
      "[gen 10] theta=4.9 v=963 cnt=1024 fitness=82801.000000 ↑ evals=200001/1000001\n",
      "[gen 11] theta=9.8 v=1216 cnt=1277 fitness=81613.000000 ↑ evals=220001/1000001\n",
      "[gen 12] theta=4.9 v=1938 cnt=2026 fitness=80200.000000 ↑ evals=240001/1000001\n",
      "[gen 13] theta=4.9 v=2492 cnt=2595 fitness=78635.000000 ↑ evals=260001/1000001\n",
      "[gen 14] theta=9.8 v=2617 cnt=2721 fitness=77210.000000 ↑ evals=280001/1000001\n",
      "[gen 15] theta=4.9 v=3085 cnt=3191 fitness=76068.000000 ↑ evals=300001/1000001\n",
      "[gen 16] theta=3.43 v=680 cnt=720 fitness=75044.000000 ↑ evals=320001/1000001\n",
      "[gen 17] theta=6.86 v=838 cnt=878 fitness=74138.000000 ↑ evals=340001/1000001\n",
      "[gen 18] theta=3.43 v=1273 cnt=1327 fitness=73228.000000 ↑ evals=360001/1000001\n",
      "[gen 19] theta=3.43 v=1747 cnt=1820 fitness=72120.000000 ↑ evals=380001/1000001\n",
      "[gen 20] theta=6.86 v=1878 cnt=1951 fitness=71308.000000 ↑ evals=400001/1000001\n",
      "[gen 21] theta=13.7 v=1887 cnt=1960 fitness=70931.000000 ↑ evals=420001/1000001\n",
      "[gen 22] theta=6.86 v=2156 cnt=2229 fitness=69577.000000 ↑ evals=440001/1000001\n",
      "[gen 23] theta=3.43 v=2543 cnt=2629 fitness=67841.000000 ↑ evals=460001/1000001\n",
      "[gen 24] theta=6.86 v=2655 cnt=2741 fitness=66696.000000 ↑ evals=480001/1000001\n",
      "[gen 25] theta=3.43 v=2902 cnt=2990 fitness=65851.000000 ↑ evals=500001/1000001\n",
      "[gen 26] theta=2.4 v=235 cnt=264 fitness=64785.000000 ↑ evals=520001/1000001\n",
      "[gen 27] theta=2.4 v=447 cnt=493 fitness=64227.000000 ↑ evals=540001/1000001\n",
      "[gen 28] theta=4.8 v=554 cnt=600 fitness=63696.000000 ↑ evals=560001/1000001\n",
      "[gen 29] theta=9.6 v=575 cnt=621 fitness=63342.000000 ↑ evals=580001/1000001\n",
      "[gen 30] theta=19.2 v=575 cnt=621 fitness=63342.000000 · evals=600001/1000001\n",
      "[gen 31] theta=9.6 v=586 cnt=632 fitness=63167.000000 ↑ evals=620001/1000001\n",
      "[gen 32] theta=4.8 v=684 cnt=730 fitness=62541.000000 ↑ evals=640001/1000001\n",
      "[gen 33] theta=9.6 v=704 cnt=750 fitness=62281.000000 ↑ evals=660001/1000001\n",
      "[gen 34] theta=4.8 v=792 cnt=838 fitness=61734.000000 ↑ evals=680001/1000001\n",
      "[gen 35] theta=2.4 v=970 cnt=1028 fitness=60989.000000 ↑ evals=700001/1000001\n",
      "[gen 36] theta=2.4 v=1108 cnt=1175 fitness=60381.000000 ↑ evals=720001/1000001\n",
      "[gen 37] theta=2.4 v=1237 cnt=1314 fitness=59863.000000 ↑ evals=740001/1000001\n",
      "[gen 38] theta=4.8 v=1298 cnt=1377 fitness=59464.000000 ↑ evals=760001/1000001\n",
      "[gen 39] theta=2.4 v=1445 cnt=1538 fitness=58798.000000 ↑ evals=780001/1000001\n",
      "[gen 40] theta=4.8 v=1522 cnt=1615 fitness=58419.000000 ↑ evals=800001/1000001\n",
      "[gen 41] theta=2.4 v=1665 cnt=1764 fitness=57857.000000 ↑ evals=820001/1000001\n",
      "[gen 42] theta=2.4 v=1799 cnt=1913 fitness=57324.000000 ↑ evals=840001/1000001\n",
      "[gen 43] theta=2.4 v=1920 cnt=2047 fitness=57000.000000 ↑ evals=860001/1000001\n",
      "[gen 44] theta=4.8 v=1984 cnt=2111 fitness=56752.000000 ↑ evals=880001/1000001\n",
      "[gen 45] theta=2.4 v=2104 cnt=2238 fitness=56351.000000 ↑ evals=900001/1000001\n",
      "[gen 46] theta=4.8 v=2175 cnt=2309 fitness=55936.000000 ↑ evals=920001/1000001\n",
      "[gen 47] theta=2.4 v=2311 cnt=2457 fitness=55487.000000 ↑ evals=940001/1000001\n",
      "[gen 48] theta=4.8 v=2381 cnt=2527 fitness=54958.000000 ↑ evals=960001/1000001\n",
      "[gen 49] theta=2.4 v=2479 cnt=2631 fitness=54606.000000 ↑ evals=980001/1000001\n",
      "[gen 50] theta=1.68 v=132 cnt=167 fitness=54090.000000 ↑ evals=1000001/1000001\n"
     ]
    },
    {
     "data": {
      "text/plain": [
       "54090.0"
      ]
     },
     "execution_count": 22,
     "metadata": {},
     "output_type": "execute_result"
    }
   ],
   "source": [
    "from importlib import reload\n",
    "\n",
    "reload(ea)\n",
    "\n",
    "cvrp = simulation.get_cvrp_instance(\"X-n209-k16.xml\")\n",
    "res_voting = ea.one_plus_lambda_ea_voting(\n",
    "    cvrp,\n",
    "    theta=100.0,\n",
    "    lambda_=lambda_,\n",
    "    max_evals=max_evals,\n",
    "    generations_number=generations_number,\n",
    "    seed=2024,\n",
    "    mutation=ea.mutate_shift_2opt_fast_fast,\n",
    "    verbose=True,\n",
    "    scale_quorum=True,\n",
    ")\n",
    "res_voting[\"best_fitness\"]\n"
   ]
  },
  {
   "cell_type": "code",
   "execution_count": 31,
   "id": "a5f00605",
   "metadata": {},
   "outputs": [
    {
     "name": "stdout",
     "output_type": "stream",
     "text": [
      "[init] fitness=337473.000000\n",
      "[gen 1] theta=100 fitness=323009.000000 ↑ evals=20001/1000001\n",
      "[gen 2] theta=100 fitness=312327.000000 ↑ evals=40001/1000001\n",
      "[gen 3] theta=66.6667 fitness=306448.000000 ↑ evals=60001/1000001\n",
      "[gen 4] theta=44.4444 fitness=300826.000000 ↑ evals=80001/1000001\n",
      "[gen 5] theta=29.6296 fitness=296373.000000 ↑ evals=100001/1000001\n",
      "[gen 6] theta=19.7531 fitness=291940.000000 ↑ evals=120001/1000001\n",
      "[gen 7] theta=13.1687 fitness=288449.000000 ↑ evals=140001/1000001\n",
      "[gen 8] theta=8.77915 fitness=284713.000000 ↑ evals=160001/1000001\n",
      "[gen 9] theta=5.85277 fitness=280581.000000 ↑ evals=180001/1000001\n",
      "[gen 10] theta=3.90184 fitness=277680.000000 ↑ evals=200001/1000001\n",
      "[gen 11] theta=2.60123 fitness=275146.000000 ↑ evals=220001/1000001\n",
      "[gen 12] theta=1.73415 fitness=273242.000000 ↑ evals=240001/1000001\n",
      "[gen 13] theta=1.1561 fitness=271187.000000 ↑ evals=260001/1000001\n",
      "[gen 14] theta=1 fitness=269355.000000 ↑ evals=280001/1000001\n",
      "[gen 15] theta=1.5 fitness=267077.000000 ↑ evals=300001/1000001\n",
      "[gen 16] theta=1 fitness=265409.000000 ↑ evals=320001/1000001\n",
      "[gen 17] theta=1 fitness=264041.000000 ↑ evals=340001/1000001\n",
      "[gen 18] theta=1 fitness=262497.000000 ↑ evals=360001/1000001\n",
      "[gen 19] theta=1 fitness=260892.000000 ↑ evals=380001/1000001\n",
      "[gen 20] theta=1 fitness=259323.000000 ↑ evals=400001/1000001\n",
      "[gen 21] theta=1 fitness=257625.000000 ↑ evals=420001/1000001\n",
      "[gen 22] theta=1 fitness=256152.000000 ↑ evals=440001/1000001\n",
      "[gen 23] theta=1 fitness=254844.000000 ↑ evals=460001/1000001\n",
      "[gen 24] theta=1 fitness=253502.000000 ↑ evals=480001/1000001\n",
      "[gen 25] theta=1 fitness=251745.000000 ↑ evals=500001/1000001\n",
      "[gen 26] theta=1 fitness=250066.000000 ↑ evals=520001/1000001\n",
      "[gen 27] theta=1 fitness=248087.000000 ↑ evals=540001/1000001\n",
      "[gen 28] theta=1 fitness=246466.000000 ↑ evals=560001/1000001\n",
      "[gen 29] theta=1 fitness=244748.000000 ↑ evals=580001/1000001\n",
      "[gen 30] theta=1 fitness=243053.000000 ↑ evals=600001/1000001\n",
      "[gen 31] theta=1 fitness=241616.000000 ↑ evals=620001/1000001\n",
      "[gen 32] theta=1 fitness=239506.000000 ↑ evals=640001/1000001\n",
      "[gen 33] theta=1 fitness=237922.000000 ↑ evals=660001/1000001\n",
      "[gen 34] theta=1 fitness=236490.000000 ↑ evals=680001/1000001\n",
      "[gen 35] theta=1 fitness=234798.000000 ↑ evals=700001/1000001\n",
      "[gen 36] theta=1 fitness=233105.000000 ↑ evals=720001/1000001\n",
      "[gen 37] theta=1 fitness=231734.000000 ↑ evals=740001/1000001\n",
      "[gen 38] theta=1 fitness=230602.000000 ↑ evals=760001/1000001\n",
      "[gen 39] theta=1 fitness=229445.000000 ↑ evals=780001/1000001\n",
      "[gen 40] theta=1 fitness=228339.000000 ↑ evals=800001/1000001\n",
      "[gen 41] theta=1 fitness=227241.000000 ↑ evals=820001/1000001\n",
      "[gen 42] theta=1 fitness=226028.000000 ↑ evals=840001/1000001\n",
      "[gen 43] theta=1 fitness=224596.000000 ↑ evals=860001/1000001\n",
      "[gen 44] theta=1 fitness=223396.000000 ↑ evals=880001/1000001\n",
      "[gen 45] theta=1 fitness=222334.000000 ↑ evals=900001/1000001\n",
      "[gen 46] theta=1 fitness=221155.000000 ↑ evals=920001/1000001\n",
      "[gen 47] theta=1 fitness=219909.000000 ↑ evals=940001/1000001\n",
      "[gen 48] theta=1 fitness=218716.000000 ↑ evals=960001/1000001\n",
      "[gen 49] theta=1 fitness=217386.000000 ↑ evals=980001/1000001\n",
      "[gen 50] theta=1 fitness=216129.000000 ↑ evals=1000001/1000001\n"
     ]
    },
    {
     "data": {
      "text/plain": [
       "216129.0"
      ]
     },
     "execution_count": 31,
     "metadata": {},
     "output_type": "execute_result"
    }
   ],
   "source": [
    "from importlib import reload\n",
    "\n",
    "reload(ea)\n",
    "\n",
    "cvrp = simulation.get_cvrp_instance(\"X-n641-k35.xml\")\n",
    "res_voting = ea.one_plus_lambda_ea_with_one_fifth_success(\n",
    "    cvrp,\n",
    "    theta=100.0,\n",
    "    lambda_=lambda_,\n",
    "    max_evals=max_evals,\n",
    "    generations_number=generations_number,\n",
    "    seed=2024,\n",
    "    mutation=ea.mutate_shift_2opt_fast_fast,\n",
    "    verbose=True\n",
    ")\n",
    "res_voting[\"best_fitness\"]\n"
   ]
  },
  {
   "cell_type": "code",
   "execution_count": 29,
   "id": "58f6986a",
   "metadata": {},
   "outputs": [
    {
     "name": "stdout",
     "output_type": "stream",
     "text": [
      "[init] fitness=118362.000000\n",
      "[gen 1] theta=100 fitness=107401.000000 ↑ evals=20001/1000001\n",
      "[gen 2] theta=100 fitness=102458.000000 ↑ evals=40001/1000001\n",
      "[gen 3] theta=50 fitness=99326.000000 ↑ evals=60001/1000001\n",
      "[gen 4] theta=50 fitness=96273.000000 ↑ evals=80001/1000001\n",
      "[gen 5] theta=20 fitness=93968.000000 ↑ evals=100001/1000001\n",
      "[gen 6] theta=3.95 fitness=91712.000000 ↑ evals=120001/1000001\n",
      "[gen 7] theta=7.58 fitness=89808.000000 ↑ evals=140001/1000001\n",
      "[gen 8] theta=3.42 fitness=87993.000000 ↑ evals=160001/1000001\n",
      "[gen 9] theta=3.93 fitness=86173.000000 ↑ evals=180001/1000001\n",
      "[gen 10] theta=3.53 fitness=84752.000000 ↑ evals=200001/1000001\n",
      "[gen 11] theta=2.7 fitness=83369.000000 ↑ evals=220001/1000001\n",
      "[gen 12] theta=2.78 fitness=82221.000000 ↑ evals=240001/1000001\n",
      "[gen 13] theta=2.71 fitness=81102.000000 ↑ evals=260001/1000001\n",
      "[gen 14] theta=2.51 fitness=79604.000000 ↑ evals=280001/1000001\n",
      "[gen 15] theta=2.6 fitness=78599.000000 ↑ evals=300001/1000001\n",
      "[gen 16] theta=2.5 fitness=77486.000000 ↑ evals=320001/1000001\n",
      "[gen 17] theta=2.35 fitness=76489.000000 ↑ evals=340001/1000001\n",
      "[gen 18] theta=2.64 fitness=75546.000000 ↑ evals=360001/1000001\n",
      "[gen 19] theta=2.35 fitness=74316.000000 ↑ evals=380001/1000001\n",
      "[gen 20] theta=2.47 fitness=73397.000000 ↑ evals=400001/1000001\n",
      "[gen 21] theta=2.45 fitness=72497.000000 ↑ evals=420001/1000001\n",
      "[gen 22] theta=2.3 fitness=71503.000000 ↑ evals=440001/1000001\n",
      "[gen 23] theta=2.54 fitness=70649.000000 ↑ evals=460001/1000001\n",
      "[gen 24] theta=2.38 fitness=69750.000000 ↑ evals=480001/1000001\n",
      "[gen 25] theta=2.34 fitness=68917.000000 ↑ evals=500001/1000001\n",
      "[gen 26] theta=2.43 fitness=68114.000000 ↑ evals=520001/1000001\n",
      "[gen 27] theta=2.33 fitness=67239.000000 ↑ evals=540001/1000001\n",
      "[gen 28] theta=2.38 fitness=66459.000000 ↑ evals=560001/1000001\n",
      "[gen 29] theta=2.36 fitness=65888.000000 ↑ evals=580001/1000001\n",
      "[gen 30] theta=2.29 fitness=65190.000000 ↑ evals=600001/1000001\n",
      "[gen 31] theta=2.32 fitness=64530.000000 ↑ evals=620001/1000001\n",
      "[gen 32] theta=2.34 fitness=63833.000000 ↑ evals=640001/1000001\n",
      "[gen 33] theta=2.21 fitness=63177.000000 ↑ evals=660001/1000001\n",
      "[gen 34] theta=2.3 fitness=62392.000000 ↑ evals=680001/1000001\n",
      "[gen 35] theta=2.28 fitness=61517.000000 ↑ evals=700001/1000001\n",
      "[gen 36] theta=2.36 fitness=60993.000000 ↑ evals=720001/1000001\n",
      "[gen 37] theta=2.28 fitness=60545.000000 ↑ evals=740001/1000001\n",
      "[gen 38] theta=2.24 fitness=59977.000000 ↑ evals=760001/1000001\n",
      "[gen 39] theta=2.37 fitness=59474.000000 ↑ evals=780001/1000001\n",
      "[gen 40] theta=2.21 fitness=58950.000000 ↑ evals=800001/1000001\n",
      "[gen 41] theta=2.15 fitness=58434.000000 ↑ evals=820001/1000001\n",
      "[gen 42] theta=2.24 fitness=58003.000000 ↑ evals=840001/1000001\n",
      "[gen 43] theta=2.18 fitness=57641.000000 ↑ evals=860001/1000001\n",
      "[gen 44] theta=2.17 fitness=57290.000000 ↑ evals=880001/1000001\n",
      "[gen 45] theta=2.16 fitness=56838.000000 ↑ evals=900001/1000001\n",
      "[gen 46] theta=2.15 fitness=56486.000000 ↑ evals=920001/1000001\n",
      "[gen 47] theta=2.13 fitness=55952.000000 ↑ evals=940001/1000001\n",
      "[gen 48] theta=2.11 fitness=55514.000000 ↑ evals=960001/1000001\n",
      "[gen 49] theta=2.22 fitness=55048.000000 ↑ evals=980001/1000001\n",
      "[gen 50] theta=2.1 fitness=54426.000000 ↑ evals=1000001/1000001\n"
     ]
    }
   ],
   "source": [
    "res_wrapper = ea_parallel.one_plus_lambda_ea_parallel_nn_control(\n",
    "    cvrp,\n",
    "    wrapper_controller,\n",
    "    lambda_=lambda_,\n",
    "    max_evals=max_evals,\n",
    "    generations_number=generations_number,\n",
    "    seed=seed,\n",
    "    mutation=\"2opt\",\n",
    "    numproc=1,\n",
    "    verbose=True,\n",
    ")"
   ]
  }
 ],
 "metadata": {
  "kernelspec": {
   "display_name": "Python 3",
   "language": "python",
   "name": "python3"
  },
  "language_info": {
   "codemirror_mode": {
    "name": "ipython",
    "version": 3
   },
   "file_extension": ".py",
   "mimetype": "text/x-python",
   "name": "python",
   "nbconvert_exporter": "python",
   "pygments_lexer": "ipython3",
   "version": "3.10.16"
  }
 },
 "nbformat": 4,
 "nbformat_minor": 5
}
