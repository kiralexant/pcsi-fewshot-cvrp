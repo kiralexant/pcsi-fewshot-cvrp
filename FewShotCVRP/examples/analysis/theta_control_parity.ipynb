{
 "cells": [
  {
   "cell_type": "code",
   "execution_count": null,
   "id": "898b307b",
   "metadata": {},
   "outputs": [],
   "source": [
    "from pathlib import Path\n",
    "\n",
    "import numpy as np\n",
    "\n",
    "import FewShotCVRP.ea as ea\n",
    "import FewShotCVRP.ea_parallel as ea_parallel\n",
    "from FewShotCVRP.dataset.theta_control_loader import DescriptorRepository\n",
    "from FewShotCVRP.examples.params_search import simulation\n"
   ]
  },
  {
   "cell_type": "code",
   "execution_count": 3,
   "id": "c632644c",
   "metadata": {},
   "outputs": [],
   "source": [
    "descriptor_path = Path(\"../../dataset/trained_models/per_instance/descriptor.json\")\n",
    "repo = DescriptorRepository(descriptor_path)\n",
    "\n",
    "instance = next(inst for inst in repo.instances if inst.name == \"X-n209-k16\")\n",
    "cvrp = simulation.get_cvrp_instance(\"X-n209-k16.xml\")\n",
    "\n",
    "cfg = repo.ea_config\n",
    "lambda_ = int(cfg[\"ea_lambda_\"])\n",
    "generations_number = int(cfg[\"ea_generations_number\"])\n",
    "max_evals = generations_number * lambda_\n",
    "seed = 2024\n"
   ]
  },
  {
   "cell_type": "code",
   "execution_count": null,
   "id": "581c624d",
   "metadata": {},
   "outputs": [],
   "source": [
    "wrapper_controller = repo.create_theta_controller(instance)\n",
    "baseline_controller = repo.create_theta_controller(instance)\n",
    "\n",
    "theta_schedule_window = np.asarray(baseline_controller.theta_schedule_window(), dtype=float)\n",
    "theta_control_fun = baseline_controller._theta_function\n"
   ]
  },
  {
   "cell_type": "code",
   "execution_count": null,
   "id": "72000845",
   "metadata": {},
   "outputs": [],
   "source": [
    "res_wrapper = ea_parallel.one_plus_lambda_ea_parallel_nn_control(\n",
    "    cvrp,\n",
    "    wrapper_controller,\n",
    "    lambda_=lambda_,\n",
    "    max_evals=max_evals,\n",
    "    generations_number=generations_number,\n",
    "    seed=seed,\n",
    "    mutation=\"2opt\",\n",
    "    numproc=1,\n",
    "    verbose=False,\n",
    ")\n",
    "\n",
    "res_original = ea.one_plus_lambda_ea_with_theta_control(\n",
    "    cvrp,\n",
    "    theta_control_fun=theta_control_fun,\n",
    "    window=len(theta_schedule_window),\n",
    "    theta_schedule_window=theta_schedule_window,\n",
    "    lambda_=lambda_,\n",
    "    max_evals=max_evals,\n",
    "    generations_number=generations_number,\n",
    "    seed=seed,\n",
    "    mutation=ea.mutate_shift_2opt_fast_fast,\n",
    "    verbose=False,\n",
    ")\n"
   ]
  },
  {
   "cell_type": "code",
   "execution_count": 5,
   "id": "e70effd6",
   "metadata": {},
   "outputs": [
    {
     "data": {
      "text/plain": [
       "{'best_fitness_equal': np.True_,\n",
       " 'evals_equal': True,\n",
       " 'gens_equal': True,\n",
       " 'history_equal': True}"
      ]
     },
     "execution_count": 5,
     "metadata": {},
     "output_type": "execute_result"
    }
   ],
   "source": [
    "comparison = {\n",
    "    \"best_fitness_equal\": np.isclose(res_wrapper[\"best_fitness\"], res_original[\"best_fitness\"]),\n",
    "    \"evals_equal\": res_wrapper[\"evals\"] == res_original[\"evals\"],\n",
    "    \"gens_equal\": res_wrapper[\"gens\"] == res_original[\"gens\"],\n",
    "    \"history_equal\": res_wrapper[\"history\"] == res_original[\"history\"],\n",
    "}\n",
    "comparison\n"
   ]
  },
  {
   "cell_type": "code",
   "execution_count": 45,
   "id": "a10d5410",
   "metadata": {},
   "outputs": [
    {
     "data": {
      "text/plain": [
       "52417.0"
      ]
     },
     "execution_count": 45,
     "metadata": {},
     "output_type": "execute_result"
    }
   ],
   "source": [
    "from importlib import reload\n",
    "\n",
    "reload(ea_parallel)\n",
    "\n",
    "res_wrapper = ea_parallel.one_plus_lambda_ea_parallel_nn_control(\n",
    "    cvrp,\n",
    "    wrapper_controller,\n",
    "    lambda_=lambda_,\n",
    "    max_evals=max_evals,\n",
    "    generations_number=generations_number,\n",
    "    seed=seed,\n",
    "    mutation=\"2opt\",\n",
    "    numproc=50,\n",
    "    verbose=False,\n",
    ")\n",
    "res_wrapper[\"best_fitness\"]"
   ]
  }
 ],
 "metadata": {
  "kernelspec": {
   "display_name": "Python 3",
   "language": "python",
   "name": "python3"
  },
  "language_info": {
   "codemirror_mode": {
    "name": "ipython",
    "version": 3
   },
   "file_extension": ".py",
   "mimetype": "text/x-python",
   "name": "python",
   "nbconvert_exporter": "python",
   "pygments_lexer": "ipython3",
   "version": "3.10.16"
  }
 },
 "nbformat": 4,
 "nbformat_minor": 5
}
