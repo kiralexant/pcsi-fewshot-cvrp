{
 "cells": [
  {
   "cell_type": "code",
   "execution_count": 1,
   "id": "648de8a9",
   "metadata": {},
   "outputs": [
    {
     "name": "stdout",
     "output_type": "stream",
     "text": [
      "[init] fitness=56149.000000\n",
      "[gen 1] theta=100 fitness=51282.000000 ↑ evals=20001/200001\n",
      "[gen 2] theta=100 fitness=50293.000000 ↑ evals=40001/200001\n",
      "[gen 3] theta=100 fitness=49854.000000 ↑ evals=60001/200001\n",
      "[gen 4] theta=100 fitness=49854.000000 · evals=80001/200001\n",
      "[gen 5] theta=100 fitness=49854.000000 · evals=100001/200001\n",
      "[gen 6] theta=1 fitness=48104.000000 ↑ evals=120001/200001\n",
      "[gen 7] theta=1 fitness=46181.000000 ↑ evals=140001/200001\n",
      "[gen 8] theta=1 fitness=44825.000000 ↑ evals=160001/200001\n",
      "[gen 9] theta=1 fitness=43463.000000 ↑ evals=180001/200001\n",
      "[gen 10] theta=1 fitness=42373.000000 ↑ evals=200001/200001\n"
     ]
    },
    {
     "data": {
      "text/plain": [
       "{'best_perm': array([23, 12, 54, 91, 75, 37, 46, 98, 14, 21, 40,  4, 26, 88, 60, 22, 84,\n",
       "        78, 38, 15, 24, 18, 31, 90,  5, 42, 13,  3, 68, 65, 72, 32, 16, 76,\n",
       "        99, 34, 52, 94, 71, 59, 27, 97, 11, 47, 55, 33, 62, 48,  0, 36, 35,\n",
       "        44, 39, 86, 64, 77, 81, 69, 89, 67, 95, 87, 96, 61, 80, 51, 45, 85,\n",
       "        73, 53,  8, 29, 20, 49, 10, 57,  2, 25, 58, 43, 28,  6, 83, 92,  9,\n",
       "        19, 41, 56, 66, 74, 30, 93,  7, 79, 17, 63,  1, 50, 70, 82]),\n",
       " 'best_fitness': 42373.0,\n",
       " 'evals': 200001,\n",
       " 'gens': 10,\n",
       " 'history': [(1, 56149.0),\n",
       "  (20001, 51282.0),\n",
       "  (40001, 50293.0),\n",
       "  (60001, 49854.0),\n",
       "  (80001, 49854.0),\n",
       "  (100001, 49854.0),\n",
       "  (120001, 48104.0),\n",
       "  (140001, 46181.0),\n",
       "  (160001, 44825.0),\n",
       "  (180001, 43463.0),\n",
       "  (200001, 42373.0)]}"
      ]
     },
     "execution_count": 1,
     "metadata": {},
     "output_type": "execute_result"
    }
   ],
   "source": [
    "from pathlib import Path\n",
    "\n",
    "import numpy as np\n",
    "\n",
    "import cvrp_cpp as cc\n",
    "import FewShotCVRP.dataset.parse_and_optimize as pao\n",
    "import FewShotCVRP.ea as ea\n",
    "\n",
    "\n",
    "def get_cvrp_instance(instance_name_str):\n",
    "    dataset_dir = Path(pao.__file__).resolve().parent\n",
    "    instance = pao.ProblemInstance(pao.ET.parse(dataset_dir / instance_name_str))\n",
    "    return cc.CVRP(\n",
    "        np.asarray(instance.depot_dist),\n",
    "        np.asarray(instance.dist),\n",
    "        np.asarray(instance.node_q),\n",
    "        np.asarray(instance.capacity),\n",
    "    )\n",
    "\n",
    "\n",
    "cvrp = get_cvrp_instance(\"X-n101-k25.xml\")\n",
    "gen = 10\n",
    "lambda_ = 2 * 10**4\n",
    "theta_schedule = [100.0, 100.0, 100.0, 100.0, 100.0] + [1.0] * 5\n",
    "ea.one_plus_lambda_ea_with_theta_schedule(\n",
    "    cvrp,\n",
    "    seed=44,\n",
    "    lambda_=lambda_,\n",
    "    max_evals=gen * lambda_,\n",
    "    generations_number=gen,\n",
    "    theta_schedule=theta_schedule,\n",
    "    mutation=ea.mutate_shift_2opt_fast_fast,\n",
    "    verbose=True,\n",
    ")"
   ]
  },
  {
   "cell_type": "code",
   "execution_count": 3,
   "id": "ddb23090",
   "metadata": {},
   "outputs": [
    {
     "name": "stdout",
     "output_type": "stream",
     "text": [
      "[init] fitness=56149.000000\n",
      "[gen 1] theta=100 fitness=51282.000000 ↑ evals=20001/200001\n",
      "[gen 2] theta=100 fitness=50293.000000 ↑ evals=40001/200001\n",
      "[gen 3] theta=100 fitness=49854.000000 ↑ evals=60001/200001\n",
      "[gen 4] theta=100 fitness=49854.000000 · evals=80001/200001\n",
      "[gen 5] theta=100 fitness=49854.000000 · evals=100001/200001\n",
      "Param control arguments: [  0.91331992 100.           0.98071448 100.           0.99127115\n",
      " 100.           1.00485417 100.           1.00290849 100.        ]\n",
      "[gen 6] theta=1 fitness=48104.000000 ↑ evals=120001/200001\n",
      "Param control arguments: [  0.98071448 100.           0.99127115 100.           1.00485417\n",
      " 100.           1.00290849 100.           0.9648975    1.        ]\n",
      "[gen 7] theta=1 fitness=46181.000000 ↑ evals=140001/200001\n",
      "Param control arguments: [  0.99127115 100.           1.00485417 100.           1.00290849\n",
      " 100.           0.9648975    1.           0.96002411   1.        ]\n",
      "[gen 8] theta=1 fitness=44825.000000 ↑ evals=160001/200001\n",
      "Param control arguments: [  1.00485417 100.           1.00290849 100.           0.9648975\n",
      "   1.           0.96002411   1.           0.97063728   1.        ]\n",
      "[gen 9] theta=1 fitness=43463.000000 ↑ evals=180001/200001\n",
      "Param control arguments: [  1.00290849 100.           0.9648975    1.           0.96002411\n",
      "   1.           0.97063728   1.           0.96961517   1.        ]\n",
      "[gen 10] theta=1 fitness=42373.000000 ↑ evals=200001/200001\n"
     ]
    },
    {
     "data": {
      "text/plain": [
       "{'best_perm': array([23, 12, 54, 91, 75, 37, 46, 98, 14, 21, 40,  4, 26, 88, 60, 22, 84,\n",
       "        78, 38, 15, 24, 18, 31, 90,  5, 42, 13,  3, 68, 65, 72, 32, 16, 76,\n",
       "        99, 34, 52, 94, 71, 59, 27, 97, 11, 47, 55, 33, 62, 48,  0, 36, 35,\n",
       "        44, 39, 86, 64, 77, 81, 69, 89, 67, 95, 87, 96, 61, 80, 51, 45, 85,\n",
       "        73, 53,  8, 29, 20, 49, 10, 57,  2, 25, 58, 43, 28,  6, 83, 92,  9,\n",
       "        19, 41, 56, 66, 74, 30, 93,  7, 79, 17, 63,  1, 50, 70, 82]),\n",
       " 'best_fitness': 42373.0,\n",
       " 'evals': 200001,\n",
       " 'gens': 10,\n",
       " 'history': [(1, 56149.0),\n",
       "  (20001, 51282.0),\n",
       "  (40001, 50293.0),\n",
       "  (60001, 49854.0),\n",
       "  (80001, 49854.0),\n",
       "  (100001, 49854.0),\n",
       "  (120001, 48104.0),\n",
       "  (140001, 46181.0),\n",
       "  (160001, 44825.0),\n",
       "  (180001, 43463.0),\n",
       "  (200001, 42373.0)]}"
      ]
     },
     "execution_count": 3,
     "metadata": {},
     "output_type": "execute_result"
    }
   ],
   "source": [
    "window = 5\n",
    "\n",
    "\n",
    "def param_control(args):\n",
    "    assert len(args) == 2 * window\n",
    "    print(\"Param control arguments:\", args)\n",
    "    return 1.0\n",
    "\n",
    "\n",
    "ea.one_plus_lambda_ea_with_theta_control(\n",
    "    cvrp,\n",
    "    theta_schedule_window=[100.0, 100.0, 100.0, 100.0, 100.0],\n",
    "    window=window,\n",
    "    theta_control_fun=param_control,\n",
    "    seed=44,\n",
    "    lambda_=lambda_,\n",
    "    max_evals=gen * lambda_,\n",
    "    generations_number=gen,\n",
    "    mutation=ea.mutate_shift_2opt_fast_fast,\n",
    "    verbose=True,\n",
    ")"
   ]
  },
  {
   "cell_type": "code",
   "execution_count": null,
   "id": "137cac77",
   "metadata": {},
   "outputs": [],
   "source": []
  }
 ],
 "metadata": {
  "kernelspec": {
   "display_name": "Python 3",
   "language": "python",
   "name": "python3"
  },
  "language_info": {
   "codemirror_mode": {
    "name": "ipython",
    "version": 3
   },
   "file_extension": ".py",
   "mimetype": "text/x-python",
   "name": "python",
   "nbconvert_exporter": "python",
   "pygments_lexer": "ipython3",
   "version": "3.10.16"
  }
 },
 "nbformat": 4,
 "nbformat_minor": 5
}
