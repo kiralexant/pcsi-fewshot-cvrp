{
 "cells": [
  {
   "cell_type": "code",
   "execution_count": 2,
   "id": "6af501e5",
   "metadata": {},
   "outputs": [
    {
     "data": {
      "text/plain": [
       "<module 'FewShotCVRP.few_shot' from '/data/antonovk/FewShotCVRP/FewShotCVRP/few_shot.py'>"
      ]
     },
     "execution_count": 2,
     "metadata": {},
     "output_type": "execute_result"
    }
   ],
   "source": [
    "from importlib import reload\n",
    "\n",
    "import FewShotCVRP.few_shot as few_shot\n",
    "\n",
    "reload(few_shot)\n",
    "\n"
   ]
  },
  {
   "cell_type": "code",
   "execution_count": 19,
   "id": "6e70a420",
   "metadata": {},
   "outputs": [],
   "source": [
    "reload(few_shot)\n",
    "reload(few_shot.ea)\n",
    "\n",
    "def run_descent_for_instance(instance_name: str, random_seed: int, target_fitness_val: float):\n",
    "    \"\"\"Run EA descent with the same budget used in few_shot_optimization.\"\"\"\n",
    "    repo = few_shot.DescriptorRepository(few_shot.DESCRIPTOR_PATH)\n",
    "    instance = few_shot._load_problem_instance(instance_name)\n",
    "    cvrp = few_shot._make_cvrp(instance)\n",
    "\n",
    "    cfg = repo.ea_config\n",
    "    generations = int(cfg[\"ea_generations_number\"])\n",
    "    lambda_ = int(cfg[\"ea_lambda_\"])\n",
    "    max_evals = generations * lambda_\n",
    "\n",
    "    return few_shot.ea.descent(\n",
    "        cvrp,\n",
    "        max_evals=max_evals,\n",
    "        mutation=few_shot.ea.mutate_shift_2opt_fast_fast,\n",
    "        seed=random_seed,\n",
    "        theta=1.0,\n",
    "        verbose=False,\n",
    "        target_fitness_value=target_fitness_val\n",
    "    )\n"
   ]
  },
  {
   "cell_type": "code",
   "execution_count": 40,
   "id": "0b8d5a65",
   "metadata": {},
   "outputs": [
    {
     "name": "stdout",
     "output_type": "stream",
     "text": [
      "Final fitness: 157665.0, made evals: 10000\n"
     ]
    }
   ],
   "source": [
    "res = few_shot.few_shot_optimization(\n",
    "    \"X-n641-k35.xml\",\n",
    "    random_seed=2025,\n",
    "    numproc=50,\n",
    "    subsequent_local_opt=True,\n",
    "    local_opt_budget_fraction=0.01,\n",
    ")\n",
    "\n",
    "\n",
    "res = res.descent_result if res.descent_result else res.ea_result\n",
    "target_fitness_val = res[\"best_fitness\"]\n",
    "print(f\"Final fitness: {res['best_fitness']:.1f}, made evals: {res['evals']}\")"
   ]
  },
  {
   "cell_type": "code",
   "execution_count": 42,
   "id": "25dd2553",
   "metadata": {},
   "outputs": [
    {
     "name": "stdout",
     "output_type": "stream",
     "text": [
      "Final fitness: 157557.0, made evals: 12046\n"
     ]
    }
   ],
   "source": [
    "descent_only = run_descent_for_instance(\n",
    "    \"X-n641-k35.xml\", random_seed=2024, target_fitness_val=target_fitness_val\n",
    ")\n",
    "print(\n",
    "    f\"Final fitness: {descent_only['best_fitness']:.1f}, made evals: {descent_only['evals']}\"\n",
    ")"
   ]
  },
  {
   "cell_type": "code",
   "execution_count": 28,
   "id": "c913836e",
   "metadata": {},
   "outputs": [
    {
     "data": {
      "text/plain": [
       "dict_keys(['best_perm', 'best_fitness', 'evals', 'gens', 'history'])"
      ]
     },
     "execution_count": 28,
     "metadata": {},
     "output_type": "execute_result"
    }
   ],
   "source": [
    "descent_only.keys()"
   ]
  }
 ],
 "metadata": {
  "kernelspec": {
   "display_name": "Python 3",
   "language": "python",
   "name": "python3"
  },
  "language_info": {
   "codemirror_mode": {
    "name": "ipython",
    "version": 3
   },
   "file_extension": ".py",
   "mimetype": "text/x-python",
   "name": "python",
   "nbconvert_exporter": "python",
   "pygments_lexer": "ipython3",
   "version": "3.10.16"
  }
 },
 "nbformat": 4,
 "nbformat_minor": 5
}
